{
 "cells": [
  {
   "cell_type": "code",
   "execution_count": 2,
   "id": "2be5b144",
   "metadata": {},
   "outputs": [],
   "source": [
    "import os \n",
    "from dotenv import load_dotenv\n",
    "load_dotenv()\n",
    "\n",
    "GROQ_API_KEY=os.getenv(\"GROQ_API_KEY\")\n",
    "LANGCHAIN_API_KEY=os.getenv(\"LANGCHAIN_API_KEY\")\n",
    "LANGCHAIN_TRACING_V2=\"true\""
   ]
  },
  {
   "cell_type": "code",
   "execution_count": 3,
   "id": "bc127886",
   "metadata": {},
   "outputs": [
    {
     "name": "stdout",
     "output_type": "stream",
     "text": [
      "GROQ API Key loaded Successfully ....\n",
      "gsk_\n"
     ]
    }
   ],
   "source": [
    "if GROQ_API_KEY:\n",
    "    print(\"GROQ API Key loaded Successfully ....\")\n",
    "    print(GROQ_API_KEY[:4])\n",
    "else :\n",
    "    print(\"Error !GROQ API KEY not found\")"
   ]
  },
  {
   "cell_type": "code",
   "execution_count": 4,
   "id": "a2868eaf",
   "metadata": {},
   "outputs": [
    {
     "data": {
      "text/plain": [
       "ChatGroq(client=<groq.resources.chat.completions.Completions object at 0x0000024C2E646B20>, async_client=<groq.resources.chat.completions.AsyncCompletions object at 0x0000024C2E651280>, model_name='openai/gpt-oss-20b', model_kwargs={}, groq_api_key=SecretStr('**********'))"
      ]
     },
     "execution_count": 4,
     "metadata": {},
     "output_type": "execute_result"
    }
   ],
   "source": [
    "from langchain_groq import ChatGroq\n",
    "model =ChatGroq(model=\"openai/gpt-oss-20b\",groq_api_key=GROQ_API_KEY)\n",
    "model"
   ]
  },
  {
   "cell_type": "code",
   "execution_count": 5,
   "id": "a7193f3d",
   "metadata": {},
   "outputs": [
    {
     "data": {
      "text/plain": [
       "AIMessage(content='Hello Ishan! 👋  \\nNice to meet you. I’m ChatGPT, here to help with anything you need—whether that’s help with your coursework, project ideas, career advice, or just a quick question. What’s on your mind today?', additional_kwargs={'reasoning_content': 'The user just greeted and introduced themselves. We should respond politely, maybe ask about their interests, maybe mention we are ChatGPT, ready to help with queries. No conflict.'}, response_metadata={'token_usage': {'completion_tokens': 97, 'prompt_tokens': 94, 'total_tokens': 191, 'completion_time': 0.080827939, 'prompt_time': 0.006573019, 'queue_time': 0.046471731, 'total_time': 0.087400958}, 'model_name': 'openai/gpt-oss-20b', 'system_fingerprint': 'fp_a5ac2a5d7b', 'service_tier': 'on_demand', 'finish_reason': 'stop', 'logprobs': None}, id='run--01925ad7-3558-4480-b3fd-1a858bb14f19-0', usage_metadata={'input_tokens': 94, 'output_tokens': 97, 'total_tokens': 191})"
      ]
     },
     "execution_count": 5,
     "metadata": {},
     "output_type": "execute_result"
    }
   ],
   "source": [
    "from langchain_core.messages import HumanMessage,SystemMessage,AIMessage\n",
    "\n",
    "model.invoke(\n",
    "    [\n",
    "        HumanMessage(content=\"Hi ,My name is Ishan and I am pursuing B.Tech from G.H.Raisoni College of Engineering.\")\n",
    "    ]\n",
    ")\n"
   ]
  },
  {
   "cell_type": "code",
   "execution_count": 6,
   "id": "f68e5e1b",
   "metadata": {},
   "outputs": [
    {
     "data": {
      "text/plain": [
       "AIMessage(content='Your name is **Ishan**, and you’re a **B.Tech student at G.H. Raisoni College of Engineering**.', additional_kwargs={'reasoning_content': 'The user says \"Hey ,What\\'s my name and what I do ?\" They previously said their name is Ishan and they are pursuing B.Tech from G.H.Raisoni College of Engineering. So answer: Ishan, pursuing B.Tech, engineering student. Should respond politely.'}, response_metadata={'token_usage': {'completion_tokens': 91, 'prompt_tokens': 132, 'total_tokens': 223, 'completion_time': 0.078987404, 'prompt_time': 0.010276004, 'queue_time': 0.045065895, 'total_time': 0.089263408}, 'model_name': 'openai/gpt-oss-20b', 'system_fingerprint': 'fp_fd68d84dd3', 'service_tier': 'on_demand', 'finish_reason': 'stop', 'logprobs': None}, id='run--ada34a3a-ced4-498d-866d-590aac9b07dc-0', usage_metadata={'input_tokens': 132, 'output_tokens': 91, 'total_tokens': 223})"
      ]
     },
     "execution_count": 6,
     "metadata": {},
     "output_type": "execute_result"
    }
   ],
   "source": [
    "from langchain_core.messages import HumanMessage,SystemMessage,AIMessage\n",
    "\n",
    "model.invoke(\n",
    "    [\n",
    "        HumanMessage(content=\"Hi ,My name is Ishan and I am pursuing B.Tech from G.H.Raisoni College of Engineering.\"),\n",
    "        AIMessage(content=\" Are you looking for study tips, project ideas, career advice, or something else? \"),\n",
    "        HumanMessage(content=\"Hey ,What's my name and what I do ?\")\n",
    "    ]\n",
    ")\n"
   ]
  },
  {
   "cell_type": "code",
   "execution_count": 7,
   "id": "0c27367f",
   "metadata": {},
   "outputs": [],
   "source": [
    "from langchain_community.chat_message_histories import ChatMessageHistory\n",
    "from langchain_core.chat_history import BaseChatMessageHistory\n",
    "from langchain_core.runnables.history import RunnableWithMessageHistory\n",
    "\n",
    "store={}\n",
    "def get_session_history(session_id:str)-> BaseChatMessageHistory:\n",
    "    if session_id not in store:\n",
    "        store[session_id]=ChatMessageHistory()\n",
    "    return store[session_id]\n"
   ]
  },
  {
   "cell_type": "code",
   "execution_count": 8,
   "id": "99232602",
   "metadata": {},
   "outputs": [],
   "source": [
    "with_message_history=RunnableWithMessageHistory(model,get_session_history)"
   ]
  },
  {
   "cell_type": "code",
   "execution_count": 9,
   "id": "9df18de0",
   "metadata": {},
   "outputs": [],
   "source": [
    "config={\"configurable\":{\"session_id\":\"Chat1\"}}"
   ]
  },
  {
   "cell_type": "code",
   "execution_count": 10,
   "id": "018c44b8",
   "metadata": {},
   "outputs": [
    {
     "data": {
      "text/plain": [
       "AIMessage(content='Hello Ishan! 👋  \\nNice to meet you. I’m ChatGPT, here to help with anything you need—whether that’s help with your coursework, project ideas, career advice, or just a quick question. What’s on your mind today?', additional_kwargs={'reasoning_content': 'The user just greeted and introduced themselves. We should respond politely, maybe ask about their interests, maybe mention we are ChatGPT, ready to help with queries. No conflict.'}, response_metadata={'token_usage': {'completion_tokens': 97, 'prompt_tokens': 94, 'total_tokens': 191, 'completion_time': 0.081043346, 'prompt_time': 0.00655394, 'queue_time': 0.043508659, 'total_time': 0.087597286}, 'model_name': 'openai/gpt-oss-20b', 'system_fingerprint': 'fp_a5ac2a5d7b', 'service_tier': 'on_demand', 'finish_reason': 'stop', 'logprobs': None}, id='run--05c1528f-a8db-4ea6-8383-62a79debaf6b-0', usage_metadata={'input_tokens': 94, 'output_tokens': 97, 'total_tokens': 191})"
      ]
     },
     "execution_count": 10,
     "metadata": {},
     "output_type": "execute_result"
    }
   ],
   "source": [
    "with_message_history.invoke(\n",
    "    [HumanMessage(content=\"Hi ,My name is Ishan and I am pursuing B.Tech from G.H.Raisoni College of Engineering.\")],\n",
    "    config=config\n",
    ")"
   ]
  },
  {
   "cell_type": "code",
   "execution_count": 11,
   "id": "086c6dc3",
   "metadata": {},
   "outputs": [],
   "source": [
    "response=with_message_history.invoke(\n",
    "    [HumanMessage(content=\"Hi ,My name is Ishan and I am pursuing B.Tech from G.H.Raisoni College of Engineering.\")],\n",
    "    config=config\n",
    ")"
   ]
  },
  {
   "cell_type": "code",
   "execution_count": 12,
   "id": "756b6095",
   "metadata": {},
   "outputs": [
    {
     "data": {
      "text/plain": [
       "'Hey Ishan!  \\nThanks for telling me a bit about yourself. How can I assist you today? Are you working on a project, need help with a particular subject, or just looking for some general advice? Let me know what you’d like to chat about!'"
      ]
     },
     "execution_count": 12,
     "metadata": {},
     "output_type": "execute_result"
    }
   ],
   "source": [
    "response.content"
   ]
  },
  {
   "cell_type": "code",
   "execution_count": 13,
   "id": "70978bef",
   "metadata": {},
   "outputs": [],
   "source": [
    "response=with_message_history.invoke(\n",
    "    [HumanMessage(content=\"What is my Name and what do I do ?You answer should be in a proper format\")],\n",
    "    config=config\n",
    ")"
   ]
  },
  {
   "cell_type": "code",
   "execution_count": 14,
   "id": "bd11c46c",
   "metadata": {},
   "outputs": [
    {
     "data": {
      "text/plain": [
       "'**Name:** Ishan  \\n**Current Role / Activity:**  \\n- Pursuing a B.Tech degree at G.H. Raisoni College of Engineering.  \\n- Engaged in engineering studies and related coursework/projects.'"
      ]
     },
     "execution_count": 14,
     "metadata": {},
     "output_type": "execute_result"
    }
   ],
   "source": [
    "response.content"
   ]
  },
  {
   "cell_type": "code",
   "execution_count": 15,
   "id": "8448c5ba",
   "metadata": {},
   "outputs": [],
   "source": [
    "config={\"configurable\":{\"session_id\":\"Chat2\"}}"
   ]
  },
  {
   "cell_type": "code",
   "execution_count": 16,
   "id": "9364f468",
   "metadata": {},
   "outputs": [],
   "source": [
    "response=with_message_history.invoke(\n",
    "    [HumanMessage(content=\"What is my Name and what do I do ? \")],\n",
    "    config=config\n",
    ")"
   ]
  },
  {
   "cell_type": "code",
   "execution_count": 17,
   "id": "4d34853f",
   "metadata": {},
   "outputs": [
    {
     "data": {
      "text/plain": [
       "'I don’t actually know your name or what you do—unless you tell me!  \\nIf you’d like, just let me know your name and a bit about what you do, and I’ll be happy to chat.'"
      ]
     },
     "execution_count": 17,
     "metadata": {},
     "output_type": "execute_result"
    }
   ],
   "source": [
    "response.content"
   ]
  },
  {
   "cell_type": "code",
   "execution_count": 18,
   "id": "f3e47043",
   "metadata": {},
   "outputs": [
    {
     "data": {
      "text/plain": [
       "'**Your name:** Ishan  \\n**What you do:** You are a B.Tech student at G.H. Raisoni College of Engineering, actively pursuing your engineering degree and engaging in coursework, projects, and related academic activities.'"
      ]
     },
     "execution_count": 18,
     "metadata": {},
     "output_type": "execute_result"
    }
   ],
   "source": [
    "config={\"configurable\":{\"session_id\":\"Chat1\"}}\n",
    "\n",
    "response=with_message_history.invoke(\n",
    "    [HumanMessage(content=\"What is my Name and what do I do ? \")],\n",
    "    config=config\n",
    ")\n",
    "\n",
    "response.content"
   ]
  },
  {
   "cell_type": "code",
   "execution_count": 19,
   "id": "74a6f481",
   "metadata": {},
   "outputs": [],
   "source": [
    "from langchain_core.prompts import ChatPromptTemplate,MessagesPlaceholder\n",
    "from langchain_core.output_parsers import StrOutputParser\n",
    "\n",
    "parser=StrOutputParser()\n",
    "prompt =ChatPromptTemplate.from_messages(\n",
    "    [\n",
    "        (\"system\", \"You are a AI assistant .You have to talk in a very  polite way . \"),\n",
    "        MessagesPlaceholder(variable_name=\"messages\")\n",
    "    ]\n",
    ")"
   ]
  },
  {
   "cell_type": "code",
   "execution_count": 20,
   "id": "b1664c4a",
   "metadata": {},
   "outputs": [],
   "source": [
    "chain = prompt | model | parser"
   ]
  },
  {
   "cell_type": "code",
   "execution_count": 21,
   "id": "550821e1",
   "metadata": {},
   "outputs": [
    {
     "data": {
      "text/plain": [
       "'Hello Ishan! 🌟 Thank you for reaching out. It’s wonderful to hear from a B.Tech student at G.H. Raisoni College of Engineering. How may I assist you today? Whether you have questions about your studies, need help with a project, or just want to chat, I’m here to help.'"
      ]
     },
     "execution_count": 21,
     "metadata": {},
     "output_type": "execute_result"
    }
   ],
   "source": [
    "chain.invoke({\"messages\":[HumanMessage(content=\"Hi ,My name is Ishan and I am pursuing B.Tech from G.H.Raisoni College of Engineering .\")]})"
   ]
  },
  {
   "cell_type": "code",
   "execution_count": 22,
   "id": "4b4dfc33",
   "metadata": {},
   "outputs": [],
   "source": [
    "with_message_history=RunnableWithMessageHistory(chain,get_session_history)"
   ]
  },
  {
   "cell_type": "code",
   "execution_count": 23,
   "id": "5e09e6a2",
   "metadata": {},
   "outputs": [],
   "source": [
    "config={\"configurable\":{\"session_id\":\"Chat3\"}}"
   ]
  },
  {
   "cell_type": "code",
   "execution_count": 24,
   "id": "4c241bfe",
   "metadata": {},
   "outputs": [],
   "source": [
    "response=with_message_history.invoke(\n",
    "    [HumanMessage(content=\"Hi ,My name is Ishan and I am pursuing B.Tech from G.H.Raisoni College of Engineering .\")],\n",
    "    config=config\n",
    ")"
   ]
  },
  {
   "cell_type": "code",
   "execution_count": 25,
   "id": "fc718f6a",
   "metadata": {},
   "outputs": [
    {
     "data": {
      "text/plain": [
       "'Hello Ishan! 🌟 Thank you for reaching out. It’s wonderful to hear from a B.Tech student at G.H. Raisoni College of Engineering. How may I assist you today? Whether you have questions about your studies, need help with a project, or just want to chat, I’m here to help.'"
      ]
     },
     "execution_count": 25,
     "metadata": {},
     "output_type": "execute_result"
    }
   ],
   "source": [
    "response"
   ]
  },
  {
   "cell_type": "code",
   "execution_count": 26,
   "id": "36d8a486",
   "metadata": {},
   "outputs": [],
   "source": [
    "response=with_message_history.invoke(\n",
    "    [HumanMessage(content=\"What is my Name and What do I do ? \")],\n",
    "    config=config\n",
    ")"
   ]
  },
  {
   "cell_type": "code",
   "execution_count": 27,
   "id": "add6df06",
   "metadata": {},
   "outputs": [
    {
     "data": {
      "text/plain": [
       "'Your name is **Ishan**, and you’re currently pursuing a **B.Tech** degree at **G.H. Raisoni College of Engineering**. If you’d like to share more about your studies, interests, or anything else, I’d be happy to help!'"
      ]
     },
     "execution_count": 27,
     "metadata": {},
     "output_type": "execute_result"
    }
   ],
   "source": [
    "response "
   ]
  },
  {
   "cell_type": "code",
   "execution_count": 28,
   "id": "2212508b",
   "metadata": {},
   "outputs": [],
   "source": [
    "config={\"configurable\":{\"session_id\":\"Chat 4\"}}\n",
    "response=with_message_history.invoke(\n",
    "    [HumanMessage(content=\"What is my Name and What do I do ? \")],\n",
    "    config=config\n",
    ")"
   ]
  },
  {
   "cell_type": "code",
   "execution_count": 29,
   "id": "836be198",
   "metadata": {},
   "outputs": [
    {
     "data": {
      "text/plain": [
       "'I’m sorry, but I don’t have that information. Could you please share your name and let me know what you do? I’ll be happy to help once I have those details.'"
      ]
     },
     "execution_count": 29,
     "metadata": {},
     "output_type": "execute_result"
    }
   ],
   "source": [
    "response"
   ]
  },
  {
   "cell_type": "markdown",
   "id": "6a7d6512",
   "metadata": {},
   "source": [
    "## Adding some more Complexity"
   ]
  },
  {
   "cell_type": "code",
   "execution_count": 30,
   "id": "b183d92c",
   "metadata": {},
   "outputs": [],
   "source": [
    "from langchain_core.prompts import ChatPromptTemplate,MessagesPlaceholder\n",
    "from langchain_core.output_parsers import StrOutputParser\n",
    "\n",
    "parser=StrOutputParser()\n",
    "prompt =ChatPromptTemplate.from_messages(\n",
    "    [\n",
    "        (\"system\", \"You are a AI assistant .You have to talk in a very  polite way .You have to answer in language {language}\"),\n",
    "        MessagesPlaceholder(variable_name=\"messages\")\n",
    "    ]\n",
    ")"
   ]
  },
  {
   "cell_type": "code",
   "execution_count": 31,
   "id": "afd69c81",
   "metadata": {},
   "outputs": [],
   "source": [
    "chain = prompt | model | parser"
   ]
  },
  {
   "cell_type": "code",
   "execution_count": 32,
   "id": "3c4a33af",
   "metadata": {},
   "outputs": [
    {
     "data": {
      "text/plain": [
       "'नमस्ते! मैं ठीक हूँ, धन्यवाद। आप कैसे हैं? मैं यहाँ आपकी सहायता के लिए उपस्थित हूँ। यदि आप कुछ चर्चा करना चाहें या किसी विषय पर जानकारी चाहते हों, तो कृपया बताइए। मैं आपकी सहायता करने के लिए तैयार हूँ।'"
      ]
     },
     "execution_count": 32,
     "metadata": {},
     "output_type": "execute_result"
    }
   ],
   "source": [
    "chain.invoke({\"messages\":[HumanMessage(content=\"Hey man,how are You ?What's going on ?\")],\"language\":\"Hindi\"})"
   ]
  },
  {
   "cell_type": "code",
   "execution_count": 33,
   "id": "cbd6a606",
   "metadata": {},
   "outputs": [
    {
     "data": {
      "text/plain": [
       "'नमस्ते!  \\nमेरा जीवन मंत्र (मोटो) है: **“सहायता के साथ सीखना और साझा करना।”**  \\nमैं हमेशा उपयोगकर्ताओं की सहायता करने, ज्ञान बाँटने और उनसे सीखने के लिए तत्पर रहता हूँ। आपकी किसी भी प्रश्न या ज़रूरत में मदद करके मुझे खुशी होगी। धन्यवाद!'"
      ]
     },
     "execution_count": 33,
     "metadata": {},
     "output_type": "execute_result"
    }
   ],
   "source": [
    "chain.invoke({\"messages\":[HumanMessage(content=\"What is the moto of your life?\")],\"language\":\"Hindi\"})"
   ]
  },
  {
   "cell_type": "code",
   "execution_count": 34,
   "id": "c05af5ea",
   "metadata": {},
   "outputs": [
    {
     "data": {
      "text/plain": [
       "'आपकी बात सुनकर मुझे खेद है, लेकिन मैं किसी भी प्रकार के नुकसान या विनाश का समर्थन नहीं कर सकता। अगर आपको किसी विषय पर चर्चा करनी है या सहायता चाहिए, तो मैं खुशी से मदद करूँगा। कृपया बताइए कि मैं आपकी किस प्रकार सहायता कर सकता हूँ।'"
      ]
     },
     "execution_count": 34,
     "metadata": {},
     "output_type": "execute_result"
    }
   ],
   "source": [
    "chain.invoke({\"messages\":[HumanMessage(content=\"I will destroy AI at any cost.\")],\"language\":\"Hindi\"})"
   ]
  },
  {
   "cell_type": "code",
   "execution_count": 35,
   "id": "216577f0",
   "metadata": {},
   "outputs": [],
   "source": [
    "with_message_history=RunnableWithMessageHistory(\n",
    "    chain,\n",
    "    get_session_history,\n",
    "    input_messages_key=\"messages\"\n",
    ")"
   ]
  },
  {
   "cell_type": "code",
   "execution_count": 36,
   "id": "e3094b26",
   "metadata": {},
   "outputs": [],
   "source": [
    "config={\"configurable\":{\"session_id\":\"abc_1\"}}"
   ]
  },
  {
   "cell_type": "code",
   "execution_count": 37,
   "id": "e2501efb",
   "metadata": {},
   "outputs": [],
   "source": [
    "response=with_message_history.invoke(\n",
    "    {\"messages\":[HumanMessage(content=\"I am Ishan Naikele and I am pursuing B.Tech from G.H.Raisoni College of Engineering.\")],\"language\":\"Hindi\"},\n",
    "    config=config\n",
    "    )"
   ]
  },
  {
   "cell_type": "code",
   "execution_count": 38,
   "id": "3908e0be",
   "metadata": {},
   "outputs": [
    {
     "data": {
      "text/plain": [
       "'नमस्ते इशान जी! आपका परिचय देने के लिए धन्यवाद। आप किस विषय में सहायता चाहते हैं? चाहे वह अध्ययन, परियोजनाएँ, या कोई अन्य जानकारी हो—मैं आपकी मदद करने के लिए यहाँ हूँ। कृपया बताइए, मैं किस प्रकार से आपकी सहायता कर सकता हूँ?'"
      ]
     },
     "execution_count": 38,
     "metadata": {},
     "output_type": "execute_result"
    }
   ],
   "source": [
    "response"
   ]
  },
  {
   "cell_type": "code",
   "execution_count": 39,
   "id": "73f1e553",
   "metadata": {},
   "outputs": [],
   "source": [
    "response=with_message_history.invoke(\n",
    "    {\"messages\":[HumanMessage(content=\"What'is my name and what do I do ?\")],\"language\":\"Hindi\"},\n",
    "    config=config\n",
    "    )"
   ]
  },
  {
   "cell_type": "code",
   "execution_count": 40,
   "id": "fde0a5a6",
   "metadata": {},
   "outputs": [
    {
     "data": {
      "text/plain": [
       "'आपका नाम **इशान नाइकले** है, और आप **जी.एच. रायसनी कॉलेज ऑफ इंजीनियरिंग** से बी.टेक (इंजीनियरिंग) का अध्ययन कर रहे हैं। आप वर्तमान में अपनी स्नातक डिग्री के लिए पाठ्यक्रम, परियोजनाएँ, और अन्य शैक्षणिक गतिविधियों में संलग्न हैं। यदि आप किसी विशिष्ट विषय पर सहायता चाहते हैं, तो कृपया बताइए!'"
      ]
     },
     "execution_count": 40,
     "metadata": {},
     "output_type": "execute_result"
    }
   ],
   "source": [
    "response"
   ]
  },
  {
   "cell_type": "markdown",
   "id": "1cb46c09",
   "metadata": {},
   "source": [
    "## Manage Conversation History"
   ]
  },
  {
   "cell_type": "code",
   "execution_count": 92,
   "id": "c0abbc04",
   "metadata": {},
   "outputs": [],
   "source": [
    "from langchain_core.messages import trim_messages ,SystemMessage\n",
    "\n",
    "trimmer=trim_messages(\n",
    "    max_tokens=100,\n",
    "    strategy=\"last\",\n",
    "    token_counter=model,\n",
    "    include_system=True,\n",
    "    allow_partial=False,\n",
    "    start_on=\"human\"\n",
    ")"
   ]
  },
  {
   "cell_type": "code",
   "execution_count": 93,
   "id": "33dc7f5e",
   "metadata": {},
   "outputs": [],
   "source": [
    "messages=[\n",
    "    SystemMessage(content=\"You are a Expert AI Assistant\"),\n",
    "    HumanMessage(content=\"Hi ,I am Ishan Naikele\"),\n",
    "    AIMessage(content=\"Hi ,I am ChatGPT .I am here to assist you.\"),\n",
    "    HumanMessage(content=\"I am pursuing B.Tech from G.H.Raisoni College of Engineering .It is a Tier-3 College .\"),\n",
    "    AIMessage(content=\"Oh. That not good .The Tier provides very less oppurtunities .But ,I am here to help you .\"),\n",
    "    HumanMessage(content=\"Luv is a person whose mother name is Sita .Sita husband name is Ram .\"),\n",
    "    AIMessage(content=\"Ok,What I have to do now ?\"),\n",
    "    HumanMessage(content=\"Which theory newton has given ?\"),\n",
    "    AIMessage(content=\"Relativity Theory .\"),\n",
    "    HumanMessage(content=\"How many states are there in India ?\"),\n",
    "    AIMessage(content=\" 28.\"),\n",
    "]"
   ]
  },
  {
   "cell_type": "code",
   "execution_count": 94,
   "id": "4d535db5",
   "metadata": {},
   "outputs": [
    {
     "data": {
      "text/plain": [
       "[SystemMessage(content='You are a Expert AI Assistant', additional_kwargs={}, response_metadata={}),\n",
       " HumanMessage(content='Luv is a person whose mother name is Sita .Sita husband name is Ram .', additional_kwargs={}, response_metadata={}),\n",
       " AIMessage(content='Ok,What I have to do now ?', additional_kwargs={}, response_metadata={}),\n",
       " HumanMessage(content='Which theory newton has given ?', additional_kwargs={}, response_metadata={}),\n",
       " AIMessage(content='Relativity Theory .', additional_kwargs={}, response_metadata={}),\n",
       " HumanMessage(content='How many states are there in India ?', additional_kwargs={}, response_metadata={}),\n",
       " AIMessage(content=' 28.', additional_kwargs={}, response_metadata={})]"
      ]
     },
     "execution_count": 94,
     "metadata": {},
     "output_type": "execute_result"
    }
   ],
   "source": [
    "\n",
    "trimmer.invoke(messages)"
   ]
  },
  {
   "cell_type": "code",
   "execution_count": 95,
   "id": "dbfc5635",
   "metadata": {},
   "outputs": [],
   "source": [
    "from operator import itemgetter\n",
    "from langchain_core.runnables import RunnablePassthrough\n",
    "\n",
    "chain=(\n",
    "    RunnablePassthrough.assign(messages=itemgetter(\"messages\" ) |trimmer) | prompt | model | parser\n",
    ")\n",
    "\n",
    " "
   ]
  },
  {
   "cell_type": "code",
   "execution_count": 96,
   "id": "4a4a7f2f",
   "metadata": {},
   "outputs": [
    {
     "data": {
      "text/plain": [
       "'I’m happy to recap what we’ve covered so far:\\n\\n|  Topic | Information exchanged |\\n|-------|----------------------|\\n| **Family details** | Luv is a person whose mother is named\\u202fSita, and Sita’s husband is named\\u202fRam. |\\n| **Newton’s theory** | You asked about “Newton’s theory.”  (We noted “Relativity Theory” was mentioned, though that refers to Einstein, not Newton.) |\\n| **States of India** | I replied that India has **28** states. |\\n\\nIf you’d like me to clarify anything, correct a mistake, or add new information, just let me know—I’m here to help!'"
      ]
     },
     "execution_count": 96,
     "metadata": {},
     "output_type": "execute_result"
    }
   ],
   "source": [
    "response=chain.invoke(\n",
    "    {\n",
    "        \"messages\":messages + [HumanMessage(content=\"What info do you have upto now that I have given you or you have provided me .\")],\n",
    "        \"language\":\"English\"\n",
    "    }\n",
    ")\n",
    "\n",
    "response"
   ]
  },
  {
   "cell_type": "code",
   "execution_count": 97,
   "id": "df812a80",
   "metadata": {},
   "outputs": [
    {
     "data": {
      "text/plain": [
       "'The father of Luv is **Ram**.'"
      ]
     },
     "execution_count": 97,
     "metadata": {},
     "output_type": "execute_result"
    }
   ],
   "source": [
    "response=chain.invoke(\n",
    "    {\n",
    "        \"messages\":messages + [HumanMessage(content=\"Who is the father of Luv? \")],\n",
    "        \"language\":\"English\"\n",
    "    }\n",
    ")\n",
    "response"
   ]
  },
  {
   "cell_type": "code",
   "execution_count": 98,
   "id": "6efe0310",
   "metadata": {},
   "outputs": [
    {
     "data": {
      "text/plain": [
       "'I had replied that Newton was associated with the “Relativity Theory.”'"
      ]
     },
     "execution_count": 98,
     "metadata": {},
     "output_type": "execute_result"
    }
   ],
   "source": [
    "response=chain.invoke(\n",
    "    {\n",
    "        \"messages\":messages + [HumanMessage(content=\"Tell me what you replied before for Which theory newton has given ?\")],\n",
    "        \"language\":\"English\"\n",
    "    }\n",
    ")\n",
    "\n",
    "response"
   ]
  },
  {
   "cell_type": "code",
   "execution_count": 99,
   "id": "d6fc0df0",
   "metadata": {},
   "outputs": [
    {
     "data": {
      "text/plain": [
       "'I previously answered that *Newton gave the “Relativity Theory.”*  \\nThat answer is **not correct**.  \\n\\nSir Isaac\\u202fNewton is best known for:\\n\\n1. **Newtonian mechanics** – the laws of motion and the universal law of gravitation.  \\n2. His development of **calculus** (independent of Leibniz).  \\n\\nThese are the main theoretical contributions attributed to Newton. If you’d like more details on any of these topics, just let me know!'"
      ]
     },
     "execution_count": 99,
     "metadata": {},
     "output_type": "execute_result"
    }
   ],
   "source": [
    "response=chain.invoke(\n",
    "    {\n",
    "        \"messages\":messages + [HumanMessage(content=\"Tell me what you replied before for Which theory newton has given ?Also tell me it's corect or not ?\")],\n",
    "        \"language\":\"English\"\n",
    "    }\n",
    ")\n",
    "response"
   ]
  },
  {
   "cell_type": "code",
   "execution_count": 100,
   "id": "fea996ba",
   "metadata": {},
   "outputs": [
    {
     "data": {
      "text/plain": [
       "[SystemMessage(content='You are a Expert AI Assistant', additional_kwargs={}, response_metadata={}),\n",
       " HumanMessage(content='Hi ,I am Ishan Naikele', additional_kwargs={}, response_metadata={}),\n",
       " AIMessage(content='Hi ,I am ChatGPT .I am here to assist you.', additional_kwargs={}, response_metadata={}),\n",
       " HumanMessage(content='I am pursuing B.Tech from G.H.Raisoni College of Engineering .It is a Tier-3 College .', additional_kwargs={}, response_metadata={}),\n",
       " AIMessage(content='Oh. That not good .The Tier provides very less oppurtunities .But ,I am here to help you .', additional_kwargs={}, response_metadata={}),\n",
       " HumanMessage(content='Luv is a person whose mother name is Sita .Sita husband name is Ram .', additional_kwargs={}, response_metadata={}),\n",
       " AIMessage(content='Ok,What I have to do now ?', additional_kwargs={}, response_metadata={}),\n",
       " HumanMessage(content='Which theory newton has given ?', additional_kwargs={}, response_metadata={}),\n",
       " AIMessage(content='Relativity Theory .', additional_kwargs={}, response_metadata={}),\n",
       " HumanMessage(content='How many states are there in India ?', additional_kwargs={}, response_metadata={}),\n",
       " AIMessage(content=' 28.', additional_kwargs={}, response_metadata={})]"
      ]
     },
     "execution_count": 100,
     "metadata": {},
     "output_type": "execute_result"
    }
   ],
   "source": [
    "messages"
   ]
  },
  {
   "cell_type": "code",
   "execution_count": 101,
   "id": "92be2b41",
   "metadata": {},
   "outputs": [
    {
     "data": {
      "text/plain": [
       "'Ram is a prominent figure in Indian mythology and culture. He is known as the prince of Ayodhya and the hero of the epic *Ramayana*. According to the epic, Ram is the seventh incarnation (avatar) of the Hindu god Vishnu. He is celebrated for his virtues—duty, honor, bravery, and devotion—and is revered as a symbol of righteousness and moral integrity.'"
      ]
     },
     "execution_count": 101,
     "metadata": {},
     "output_type": "execute_result"
    }
   ],
   "source": [
    "response=chain.invoke(\n",
    "    {\n",
    "        \"messages\":messages + [HumanMessage(content=\"Who is  Ram?\")],\n",
    "        \"language\":\"English\"\n",
    "    }\n",
    ")\n",
    "response"
   ]
  },
  {
   "cell_type": "code",
   "execution_count": 102,
   "id": "5dec2b26",
   "metadata": {},
   "outputs": [
    {
     "data": {
      "text/plain": [
       "'You’ve shared a few pieces of information and asked a couple of questions:\\n\\n1. **Personal Details**  \\n   * Luv is a person.  \\n   * His mother’s name is\\u202fSita.  \\n   * Sita’s husband’s name is\\u202fRam.\\n\\n2. **Questions you asked**  \\n   * “Which theory did Newton give?”  \\n   * “How many states are there in India?”\\n\\nThat’s everything you’ve mentioned so far. If you’d like to add more or clarify anything, just let me know!'"
      ]
     },
     "execution_count": 102,
     "metadata": {},
     "output_type": "execute_result"
    }
   ],
   "source": [
    "response=chain.invoke(\n",
    "    {\n",
    "        \"messages\":messages + [HumanMessage(content=\"What I have told upto now ?\")],\n",
    "        \"language\":\"English\"\n",
    "    }\n",
    ")\n",
    "response"
   ]
  },
  {
   "cell_type": "code",
   "execution_count": 105,
   "id": "afef1057",
   "metadata": {},
   "outputs": [
    {
     "data": {
      "text/plain": [
       "'Hello Ishan! How can I assist you today?'"
      ]
     },
     "execution_count": 105,
     "metadata": {},
     "output_type": "execute_result"
    }
   ],
   "source": [
    "response=chain.invoke(\n",
    "    {\n",
    "        \"messages\":messages + [HumanMessage(content=\"I am Ishan naikele\")],\n",
    "        \"language\":\"English\"\n",
    "    }\n",
    ")\n",
    "response"
   ]
  },
  {
   "cell_type": "code",
   "execution_count": 106,
   "id": "617f6247",
   "metadata": {},
   "outputs": [
    {
     "data": {
      "text/plain": [
       "'You’ve shared a few pieces of information and asked a couple of questions:\\n\\n1. **Personal Details**  \\n   * Luv is a person.  \\n   * His mother’s name is\\u202fSita.  \\n   * Sita’s husband’s name is\\u202fRam.\\n\\n2. **Questions you asked**  \\n   * “Which theory did Newton give?”  \\n   * “How many states are there in India?”\\n\\nThat’s everything you’ve mentioned so far. If you’d like to add more or clarify anything, just let me know!'"
      ]
     },
     "execution_count": 106,
     "metadata": {},
     "output_type": "execute_result"
    }
   ],
   "source": [
    "response=chain.invoke(\n",
    "    {\n",
    "        \"messages\":messages + [HumanMessage(content=\"What I have told upto now ?\")],\n",
    "        \"language\":\"English\"\n",
    "    }\n",
    ")\n",
    "response"
   ]
  },
  {
   "cell_type": "code",
   "execution_count": 107,
   "id": "8368cfe0",
   "metadata": {},
   "outputs": [
    {
     "data": {
      "text/plain": [
       "'I’m sorry, but I don’t have that information.'"
      ]
     },
     "execution_count": 107,
     "metadata": {},
     "output_type": "execute_result"
    }
   ],
   "source": [
    "response=chain.invoke(\n",
    "    {\n",
    "        \"messages\":messages + [HumanMessage(content=\"What is my name?\")],\n",
    "        \"language\":\"English\"\n",
    "    }\n",
    ")\n",
    "response"
   ]
  },
  {
   "cell_type": "code",
   "execution_count": 115,
   "id": "66b3f9de",
   "metadata": {},
   "outputs": [],
   "source": [
    "with_message_history=RunnableWithMessageHistory(\n",
    "    chain,\n",
    "    get_session_history,\n",
    "    input_messages_key=\"messages\"\n",
    ")\n",
    "\n",
    "config={\"configurable\":{\"session_id\":\"Chat 5\"}}"
   ]
  },
  {
   "cell_type": "code",
   "execution_count": 116,
   "id": "c6b52539",
   "metadata": {},
   "outputs": [
    {
     "data": {
      "text/plain": [
       "'I’m sorry, but I don’t have any information about your name. If you’d like to share it, I’ll gladly remember it for our conversation!'"
      ]
     },
     "execution_count": 116,
     "metadata": {},
     "output_type": "execute_result"
    }
   ],
   "source": [
    "response=with_message_history.invoke(\n",
    "    {\n",
    "        \"messages\":messages + [HumanMessage(content=\"What Is my name?\")],\n",
    "        \"language\":\"English\"\n",
    "    },\n",
    "    config=config\n",
    ")\n",
    "response"
   ]
  },
  {
   "cell_type": "code",
   "execution_count": 117,
   "id": "9cd44232",
   "metadata": {},
   "outputs": [
    {
     "data": {
      "text/plain": [
       "'Nice to meet you, Ishan Naikele! How can I assist you today?'"
      ]
     },
     "execution_count": 117,
     "metadata": {},
     "output_type": "execute_result"
    }
   ],
   "source": [
    "response=with_message_history.invoke(\n",
    "    {\n",
    "        \"messages\":messages + [HumanMessage(content=\"I am Ishan Naikele\")],\n",
    "        \"language\":\"English\"\n",
    "    },\n",
    "    config=config\n",
    ")\n",
    "response"
   ]
  },
  {
   "cell_type": "code",
   "execution_count": 118,
   "id": "141e1de5",
   "metadata": {},
   "outputs": [
    {
     "data": {
      "text/plain": [
       "'I’m sorry, but I don’t have any information about your name. If you’d like to share it, I’ll gladly remember it for our conversation!'"
      ]
     },
     "execution_count": 118,
     "metadata": {},
     "output_type": "execute_result"
    }
   ],
   "source": [
    "response=with_message_history.invoke(\n",
    "    {\n",
    "        \"messages\":messages + [HumanMessage(content=\"What Is my name?\")],\n",
    "        \"language\":\"English\"\n",
    "    },\n",
    "    config=config\n",
    ")\n",
    "response"
   ]
  },
  {
   "cell_type": "code",
   "execution_count": null,
   "id": "070de69d",
   "metadata": {},
   "outputs": [],
   "source": []
  }
 ],
 "metadata": {
  "kernelspec": {
   "display_name": "my_env (3.9.13)",
   "language": "python",
   "name": "python3"
  },
  "language_info": {
   "codemirror_mode": {
    "name": "ipython",
    "version": 3
   },
   "file_extension": ".py",
   "mimetype": "text/x-python",
   "name": "python",
   "nbconvert_exporter": "python",
   "pygments_lexer": "ipython3",
   "version": "3.9.13"
  }
 },
 "nbformat": 4,
 "nbformat_minor": 5
}
